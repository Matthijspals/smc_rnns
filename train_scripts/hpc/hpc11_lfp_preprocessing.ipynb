{
 "cells": [
  {
   "cell_type": "code",
   "execution_count": 5,
   "metadata": {},
   "outputs": [],
   "source": [
    "import numpy as np\n",
    "from neo.io.neuroscopeio import NeuroScopeIO\n",
    "from scipy.signal import resample\n",
    "from scipy.signal import welch\n",
    "from scipy.stats import zscore\n",
    "import h5py\n",
    "import matplotlib.pyplot as plt\n",
    "\n",
    "%matplotlib inline\n",
    "\n",
    "# we are using data from: https://crcns.org/data-sets/hc/hc-11/about-hc-11\n",
    "# Grosmark, A.D., and Buzsáki, G. (2016). Diversity in neural firing dynamics supports both rigid and learned hippocampal sequences. Science 351, 1440–1443.\n",
    "# Chen, Z., Grosmark, A.D., Penagos, H., and Wilson, M.A. (2016). Uncovering representations of sleep-associated hippocampal ensemble spike activity. Sci. Rep. 6, 32193.\n",
    "\n",
    "# We are also using code from: https://github.com/zhd96/pi-vae/blob/main/examples/pi-vae_rat_data.ipynb\n",
    "# Zhou, D., Wei, X.\n",
    "# Learning identifiable and interpretable latent models of high-dimensional neural activity using pi-VAE.\n",
    "# NeurIPS 2020. https://arxiv.org/abs/2011.04798"
   ]
  },
  {
   "cell_type": "code",
   "execution_count": 6,
   "metadata": {},
   "outputs": [],
   "source": [
    "# path to the preprocessed matfile from the pi-VAE authors:\n",
    "# https://drive.google.com/drive/folders/1lUVX1IvKZmw-uL2UWLxgx4NJ62YbCwMo?usp=sharing\n",
    "\n",
    "path_mat = \"../../data_untracked/Achilles_10252013_sessInfo.mat\"\n",
    "\n",
    "# path to the eeg data from: https://crcns.org/data-sets/hc/hc-11/about-hc-11\n",
    "path_lfp = \"../../../Achilles_10252013/Achilles_10252013.eeg\""
   ]
  },
  {
   "cell_type": "code",
   "execution_count": null,
   "metadata": {},
   "outputs": [],
   "source": [
    "LFP_fs = 40\n",
    "resample_rate = 1250 / LFP_fs\n",
    "reader = NeuroScopeIO(filename=path_lfp)\n",
    "seg = reader.read_segment(lazy=False)\n",
    "t, c = np.shape(seg.analogsignals[0])\n",
    "ds = []\n",
    "for i in range(c):\n",
    "    print(i)\n",
    "    lfp = np.array(seg.analogsignals[0][:, i])\n",
    "    print(len(lfp))\n",
    "    # resample\n",
    "    n_samples = int(len(lfp) / resample_rate)\n",
    "    print(lfp.shape)\n",
    "    lfp_ds = resample(lfp, n_samples)\n",
    "    ds.append(lfp_ds)\n",
    "LFP = np.array(ds)\n",
    "np.save(\"../../data_untracked/Achilles_10252013_lfp_40Hz.npy\", LFP)\n",
    "\n",
    "\n",
    "LFP =LFP.squeeze()\n",
    "# zscore lfp\n",
    "LFP = zscore(LFP, axis=None)"
   ]
  },
  {
   "cell_type": "code",
   "execution_count": 8,
   "metadata": {},
   "outputs": [],
   "source": [
    "# Note: this is assuming LFP_fs and the fs of the data in the mat file are the same\n",
    "\n",
    "with h5py.File(path_mat, \"r\") as f:\n",
    "    # load spike info\n",
    "    spikes_times = np.array(f[\"sessInfo\"][\"Spikes\"][\"SpikeTimes\"])[0]\n",
    "    spikes_cells = np.array(f[\"sessInfo\"][\"Spikes\"][\"SpikeIDs\"])[0]\n",
    "    pyr_cells = np.array(f[\"sessInfo\"][\"Spikes\"][\"PyrIDs\"])[0]\n",
    "    # load location info\n",
    "    locations = np.array(f[\"sessInfo\"][\"Position\"][\"OneDLocation\"])[0]\n",
    "    locations_times = np.array(f[\"sessInfo\"][\"Position\"][\"TimeStamps\"])[:, 0]\n",
    "    # load maze epoch range\n",
    "    maze_epoch = np.array(f[\"sessInfo\"][\"Epochs\"][\"MazeEpoch\"])[:, 0]\n",
    "\n",
    "# cut off start and end where the rat is not in the maze\n",
    "time_in_maze = (spikes_times >= maze_epoch[0]) * (spikes_times <= maze_epoch[1])\n",
    "spikes_times = spikes_times[time_in_maze]\n",
    "spikes_cells = spikes_cells[time_in_maze]\n",
    "\n",
    "# only consider spikes from pyramidal cells\n",
    "cell_mask = np.isin(spikes_cells, pyr_cells)\n",
    "spikes_times = spikes_times[cell_mask]\n",
    "spikes_cells = spikes_cells[cell_mask];\n",
    "bin_size = 25; ## change bin size to whatever you want here\n",
    "\n",
    "binned_spike_times = np.array(np.floor(spikes_times*1000/bin_size), dtype='int');\n",
    "\n",
    "spike_by_neuron = np.zeros((binned_spike_times.max() - binned_spike_times.min()+1, pyr_cells.shape[0]));\n",
    "\n",
    "cell_dic = {};\n",
    "for i,v in enumerate(pyr_cells):\n",
    "    cell_dic[int(v)] = i;\n",
    "    \n",
    "for it in range(binned_spike_times.shape[0]):\n",
    "    spike_by_neuron[binned_spike_times[it]-binned_spike_times.min(), cell_dic[int(spikes_cells[it])]] += 1;\n",
    "    \n",
    "# bin spike times and obtain first and last spike bin timing\n",
    "binned_spike_times = np.floor(spikes_times * LFP_fs).astype(\"int\")\n",
    "first_spike_t = binned_spike_times.min()\n",
    "last_spike_t = binned_spike_times.max()\n",
    "\n",
    "# bin location times\n",
    "tph_binned_time = np.arange(first_spike_t, last_spike_t + 1)\n",
    "binned_locations_times = np.floor(locations_times * LFP_fs).astype(\"int\")\n",
    "\n",
    "# create a vector of locations at each binned timepoint\n",
    "locations_vec = np.zeros(last_spike_t - first_spike_t + 1) + np.nan\n",
    "for bin, loc in zip(binned_locations_times, locations):\n",
    "    locations_vec[bin - first_spike_t] = loc"
   ]
  },
  {
   "cell_type": "code",
   "execution_count": null,
   "metadata": {},
   "outputs": [],
   "source": [
    "spike_by_neuron.shape"
   ]
  },
  {
   "cell_type": "code",
   "execution_count": null,
   "metadata": {},
   "outputs": [],
   "source": [
    "fig,ax = plt.subplots(2, figsize = (3,2),sharex= True)\n",
    "t1 = 55000\n",
    "t2 = 60000\n",
    "ax[0].plot(locations_vec[t1:t2])\n",
    "ax[1].imshow(spike_by_neuron[t1:t2].T,cmap='Greys',aspect='auto', vmax = 1)\n",
    "ax[1].set_xlabel('Time (dt = 25 ms)')\n",
    "ax[1].set_ylabel('Neuron')\n",
    "ax[0].set_ylabel('Location')"
   ]
  },
  {
   "cell_type": "code",
   "execution_count": null,
   "metadata": {},
   "outputs": [],
   "source": [
    "subset = locations_vec[t1:t2]\n",
    "\n",
    "\n",
    "ratio = len(subset[~np.isnan(subset)])/len(subset)\n",
    "\n",
    "fig,ax = plt.subplots(2, figsize = (3,2),sharex= True)\n",
    "ax[0].plot(subset[~np.isnan(subset)])\n",
    "ax[1].imshow(spike_by_neuron[t1:t2][~np.isnan(subset)].T,cmap='Greys',aspect='auto', vmax = 1)\n",
    "ax[1].set_xlabel('Time (dt = 25 ms)')\n",
    "ax[1].set_ylabel('Neuron')\n",
    "ax[0].set_ylabel('Location')"
   ]
  },
  {
   "cell_type": "code",
   "execution_count": null,
   "metadata": {},
   "outputs": [],
   "source": [
    "\n",
    "fig = plt.figure(figsize=(4,4))\n",
    "ax1 = plt.subplot(111);\n",
    "fsz = 14;\n",
    "ll = 4000\n",
    "plt.plot(locations_vec[:ll])\n",
    "ax1.set_xlabel('Time (s)',fontsize=fsz,fontweight='normal');\n",
    "ax1.set_ylabel('Position (m)',fontsize=fsz,fontweight='normal');\n",
    "ax1.spines['top'].set_visible(False)\n",
    "ax1.spines['right'].set_visible(False)\n",
    "plt.setp(ax1.get_xticklabels(), fontsize=fsz);\n",
    "plt.setp(ax1.get_yticklabels(), fontsize=fsz);\n",
    "ax1.set_xticks((0,2000,4000,6000));\n",
    "ax1.set_xticklabels((0,50,100,150));"
   ]
  },
  {
   "cell_type": "code",
   "execution_count": null,
   "metadata": {},
   "outputs": [],
   "source": [
    "\n",
    "fig = plt.figure(figsize=(4,4))\n",
    "ax1 = plt.subplot(111);\n",
    "fsz = 14;\n",
    "ll = 4000\n",
    "plt.plot(locations_vec[:ll])\n",
    "ax1.set_xlabel('Time (s)',fontsize=fsz,fontweight='normal');\n",
    "ax1.set_ylabel('Position (m)',fontsize=fsz,fontweight='normal');\n",
    "ax1.spines['top'].set_visible(False)\n",
    "ax1.spines['right'].set_visible(False)\n",
    "plt.setp(ax1.get_xticklabels(), fontsize=fsz);\n",
    "plt.setp(ax1.get_yticklabels(), fontsize=fsz);\n",
    "ax1.set_xticks((0,2000,4000,6000));\n",
    "ax1.set_xticklabels((0,50,100,150));\n",
    "#ax1.set_xticks((0,2000,4000,6000,8000,10000))\n",
    "#ax1.set_xticklabels((0,50,100,150,200,250))\n",
    "ax1.yaxis.set_major_formatter(FormatStrFormatter('%.1f'))\n",
    "plt.scatter(idx_split[idx_split<ll], locations_vec[idx_split[idx_split<ll]], c='red')"
   ]
  },
  {
   "cell_type": "code",
   "execution_count": null,
   "metadata": {},
   "outputs": [],
   "source": [
    "spike_by_neuron_use = spike_by_neuron[~np.isnan(locations_vec)];"
   ]
  },
  {
   "cell_type": "code",
   "execution_count": null,
   "metadata": {},
   "outputs": [],
   "source": [
    "mazeLFP = []\n",
    "for i in range(LFP.shape[0]):\n",
    "    mazeLFP.append(LFP[i][np.unique(tph_binned_time)])\n",
    "\n",
    "mazeLFP = np.array(mazeLFP).T\n",
    "\n",
    "# this effectively takes the LFP values only when the location data is available\n",
    "# if one trains the model using spikes of full maze epoch rather then sampling the spikes\n",
    "# when location is available, this step is not relevant\n",
    "mazeLFP = mazeLFP[~np.isnan(locations_vec)]"
   ]
  },
  {
   "cell_type": "code",
   "execution_count": null,
   "metadata": {},
   "outputs": [],
   "source": [
    "np.save(\"../../data_untracked/mazeLFP.npy\", np.array(mazeLFP))"
   ]
  },
  {
   "cell_type": "code",
   "execution_count": null,
   "metadata": {},
   "outputs": [],
   "source": [
    "nperseg = 1024\n",
    "# taking the mean along the channels is fine since they're highly correlated\n",
    "frequencies0, psd0 = welch(np.mean(mazeLFP, axis=1), fs=LFP_fs, nperseg=nperseg)\n",
    "\n",
    "plt.figure(figsize=(10, 6))\n",
    "plt.semilogy(frequencies0, psd0, alpha=0.8, zorder=0, label=\"lfp\")\n",
    "plt.xlabel(\"Frequency (f)\", labelpad=10, fontsize=14)\n",
    "plt.ylabel(\"PSD of LFP\", labelpad=10, fontsize=14)\n",
    "plt.subplots_adjust(bottom=0.3)\n",
    "plt.legend()\n",
    "plt.show()"
   ]
  }
 ],
 "metadata": {
  "kernelspec": {
   "display_name": "neurips",
   "language": "python",
   "name": "python3"
  },
  "language_info": {
   "codemirror_mode": {
    "name": "ipython",
    "version": 3
   },
   "file_extension": ".py",
   "mimetype": "text/x-python",
   "name": "python",
   "nbconvert_exporter": "python",
   "pygments_lexer": "ipython3",
   "version": "3.9.19"
  }
 },
 "nbformat": 4,
 "nbformat_minor": 2
}
